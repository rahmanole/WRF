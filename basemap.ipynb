version https://git-lfs.github.com/spec/v1
oid sha256:fc1834b4c78799d9c6195846ea5b50a5de143a8da584afe1909dff3dbe98a1e1
size 372450
